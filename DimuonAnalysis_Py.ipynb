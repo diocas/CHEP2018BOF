{
 "cells": [
  {
   "cell_type": "markdown",
   "metadata": {},
   "source": [
    "# Analysis of an open dataset with RDataFrame\n",
    "<hr style=\"border-top-width: 4px; border-top-color: #34609b;\">\n",
    "This ROOTbook produces a plot of the dimuon invariant mass spectrum starting from a subset of the CMS collision events of Run2010B. \n",
    "Every entry in the dataset represents a muon pair. The columns available and their types are:\n",
    "\n",
    "| Column Name   | Type     | Quantity                                      |\n",
    "| :-----------: |:--------:| :--------------------------------------------:|\n",
    "| *E1*          | double   | Energy of the first muon |\n",
    "| *eta1*        | double   | Pseudorapidity of the first muon |\n",
    "| *phi1*        | double   | Phi of the first muon |\n",
    "| *px1*         | double   | X component of the momentum of the first muon |\n",
    "| *py1*         | double   | Y component of the momentum of the first muon |\n",
    "| *pz1*         | double   | Z component of the momentum of the first muon |\n",
    "| *pt1*         | double   | Transverse momentum of the first muon |\n",
    "| *C1*          | Long64_t | Charge of the momentum of the first muon |\n",
    "| *E2*          | double   | Energy of the second muon |\n",
    "| *eta2*        | double   | Pseudorapidity of the second muon |\n",
    "| *phi2*        | double   | Phi of the second muon |\n",
    "| *px2*         | double   | X component of the momentum of the second muon |\n",
    "| *py2*         | double   | Y component of the momentum of the second muon |\n",
    "| *pz2*         | double   | Z component of the momentum of the second muon |\n",
    "| *pt2*         | double   | Transverse momentum of the second muon |\n",
    "| *C2*          | Long64_t | Charge of the momentum of the second muon |\n",
    "\n",
    "\n",
    "\n",
    "Dataset Reference:<br>\n",
    "McCauley, T. (2014). Dimuon event information derived from the Run2010B public Mu dataset. CERN Open Data Portal. DOI: [10.7483/OPENDATA.CMS.CB8H.MFFA](http://opendata.cern.ch/record/700).\n",
    "\n",
    "## Objective of this exercise\n",
    "The objective is to illustrate how to use RDataFrame to produce the plot of the dimuon invariant mass spectrum, apply some cuts and inspect their efficiency and create some control plots.\n",
    "In some sense, this is a minimal form of what could be conceptually called an \"analysis\".\n",
    "\n",
    "### RDataFrame creation\n",
    "Let's create a *RDataFrame*, which is located in the *ROOT* namespace. The filename(s) can be specified as a string (with a path or a glob) or a list of strings.\n",
    "The file path is **https://root.cern/files/teaching/CMS_Open_Dataset.root** and it contains a tree called **data**."
   ]
  },
  {
   "cell_type": "code",
   "execution_count": 1,
   "metadata": {},
   "outputs": [
    {
     "name": "stdout",
     "output_type": "stream",
     "text": [
      "Welcome to JupyROOT 6.12/06\n"
     ]
    }
   ],
   "source": [
    "import ROOT\n",
    "fileName = \"https://root.cern/files/teaching/CMS_Open_Dataset.root\"\n",
    "df = ROOT.ROOT.Experimental.TDataFrame(\"data\", fileName)"
   ]
  },
  {
   "cell_type": "markdown",
   "metadata": {},
   "source": [
    "## Definition of the \"analisys\" cuts\n",
    "We need to apply some quality cuts to our muons:\n",
    "- Central muons, with a pseudorapidity smaller than 2.3\n",
    "- Muons of opposite charge :)\n",
    "- Muons with transverse momentum greater than 2 GeV\n",
    "\n",
    "In addition, we will define the cuts as strings. Remember that the strings need to be valid **C++**!\n",
    "\n",
    "The dataframe needs to be saved in a variable: we'll need that later. The filters have a name: this will be used at the end of the \"analysis\" to study the efficiency of the selections."
   ]
  },
  {
   "cell_type": "code",
   "execution_count": 2,
   "metadata": {},
   "outputs": [],
   "source": [
    "chargeCutStr = \"C1 !=C2\"\n",
    "etaCutStr = \"fabs(eta1) < 2.3 && fabs(eta2) < 2.3\"\n",
    "ptCutStr = \"pt1 > 2 && pt2 > 2\"\n",
    "df_f = df.Filter(chargeCutStr, \"Opposite Charge\")\\\n",
    "         .Filter(etaCutStr, \"Central Muons\")\\\n",
    "         .Filter(ptCutStr, \"Sane Pt\")"
   ]
  },
  {
   "cell_type": "markdown",
   "metadata": {},
   "source": [
    "### Creation of a column holding the invariant mass of the dimuon system\n",
    "Here we create a new column, which does not exist in the original dataset. \n",
    "We can create it with the usual invariant mass formula, packed in a string.\n",
    "\\begin{align}\n",
    "m = \\sqrt{(E1+E2)^2 - (px1+px2)^2 - (py1+py2)^2 - (pz1+pz2)^2 }\n",
    "\\end{align}\n",
    "Remember that the string needs to be valid **C++**!"
   ]
  },
  {
   "cell_type": "code",
   "execution_count": 3,
   "metadata": {},
   "outputs": [],
   "source": [
    "invMassFormulaStr = \"sqrt(pow(E1+E2, 2) - (pow(px1+px2, 2) + pow(py1+py2, 2) + pow(pz1+pz2, 2)))\"\n",
    "df_fd = df_f.Define(\"invMass\", invMassFormulaStr)"
   ]
  },
  {
   "cell_type": "markdown",
   "metadata": {
    "collapsed": true
   },
   "source": [
    "### Creation of the histograms and cutflow efficiency reports\n",
    "We now create our histograms. We'll prepare some control plots and the invariant mass plot.\n",
    "The control plots needed are:\n",
    "- A histogram of the transverse momenta of the muons (1 histogram for each of the leptons) before all cuts\n",
    "- A 2D histogram with the phi of the first muon on the x axis and the phi of the second muon on the y axis\n",
    "\n",
    "The main plot with the invariant mass of the dimuon system has 512 bins from 5 to 110 GeV.\n",
    "\n",
    "This is perhaps an opportunity to try out the automatic colouring.\n",
    "\n",
    "In addition, after drawing, you will invoke the **Report()** method on the top level node to inspect the efficiency of the cuts.\n",
    "\n",
    "**BE CAREFUL!!** When using notebooks, it's good practice to create **TCanvas** instances explicitly - to display the images you *need* to **Draw** the canvases too (there is no asynchronicity in a notebook: drawing must be explicit)."
   ]
  },
  {
   "cell_type": "code",
   "execution_count": 4,
   "metadata": {},
   "outputs": [
    {
     "data": {
      "image/png": "[encoded data removed]",
      "text/plain": [
       "<IPython.core.display.Image object>"
      ]
     },
     "metadata": {},
     "output_type": "display_data"
    },
    {
     "data": {
      "image/png": "[encoded data removed]",
      "text/plain": [
       "<IPython.core.display.Image object>"
      ]
     },
     "metadata": {},
     "output_type": "display_data"
    }
   ],
   "source": [
    "pt1_h = df.Histo1D(\"pt1\")\n",
    "pt2_h = df.Histo1D(\"pt2\")\n",
    "\n",
    "# Notice the elegance of the initialiser list concept as it is supported by PyROOT\n",
    "invMass_h = df_fd.Histo1D((\"invMass\",\"CMS Opendata;#mu#mu mass [GeV];Events\",512,5,110),\"invMass\")\n",
    "pi = ROOT.TMath.Pi()\n",
    "phis_h = df_fd.Histo2D((\"invMass\", \"CMS Opendata;#mu#mu mass [GeV];Events\", 64, -pi, pi, 64, -pi, pi), \"phi1\", \"phi2\")\n",
    "\n",
    "muonsPts = ROOT.TCanvas()\n",
    "pt1_h.Draw(\"PL PLC PMC\")\n",
    "pt2_h.Draw(\"Same PL PLC PMC\")\n",
    "muonsPts.SetLogy()\n",
    "muonsPts.SetLogx()\n",
    "muonsPts.Draw()\n",
    "\n",
    "phis = ROOT.TCanvas()\n",
    "phis_h.Draw(\"col\")\n",
    "phis.Draw()"
   ]
  },
  {
   "cell_type": "markdown",
   "metadata": {},
   "source": [
    "Now we print the efficiency of the cuts"
   ]
  },
  {
   "cell_type": "code",
   "execution_count": 5,
   "metadata": {},
   "outputs": [
    {
     "name": "stdout",
     "output_type": "stream",
     "text": [
      "Opposite Charge: pass=57688      all=90000      --   64.098 %\n",
      "Central Muons: pass=53303      all=57688      --   92.399 %\n",
      "Sane Pt   : pass=42431      all=53303      --   79.603 %\n"
     ]
    }
   ],
   "source": [
    "df.Report()"
   ]
  },
  {
   "cell_type": "markdown",
   "metadata": {},
   "source": [
    "The final plot with a little extra: interactive ROOT JavaScript visualisation. Feel free to zoom and modify the plot using your mouse and keyboard."
   ]
  },
  {
   "cell_type": "code",
   "execution_count": 6,
   "metadata": {},
   "outputs": [
    {
     "data": {
      "text/html": [
       "\n",
       "<div id=\"root_plot_1\"\n",
       "     style=\"width: 696px; height: 472px\">\n",
       "</div>\n",
       "\n",
       "<script>\n",
       " requirejs.config({\n",
       "     paths: {\n",
       "       'JSRootCore' : 'https://root.cern.ch/js/notebook//scripts/JSRootCore',\n",
       "     }\n",
       "   });\n",
       " require(['JSRootCore'],\n",
       "     function(Core) {\n",
       "       var obj = Core.JSONR_unref({\"_typename\":\"TCanvas\",\"fUniqueID\":0,\"fBits\":53673992,\"fLineColor\":1,\"fLineStyle\":1,\"fLineWidth\":1,\"fFillColor\":0,\"fFillStyle\":1001,\"fLeftMargin\":0.1,\"fRightMargin\":0.1,\"fBottomMargin\":0.1,\"fTopMargin\":0.1,\"fXfile\":2,\"fYfile\":2,\"fAfile\":1,\"fXstat\":0.99,\"fYstat\":0.99,\"fAstat\":2,\"fFrameFillColor\":0,\"fFrameLineColor\":1,\"fFrameFillStyle\":1001,\"fFrameLineStyle\":1,\"fFrameLineWidth\":1,\"fFrameBorderSize\":1,\"fFrameBorderMode\":0,\"fX1\":0.531167156730957,\"fY1\":-0.760030102442238,\"fX2\":2.20919553276329,\"fY2\":3.82997069175495,\"fXtoAbsPixelk\":-220.313471728922,\"fXtoPixelk\":-220.313471728922,\"fXtoPixel\":414.772485341208,\"fYtoAbsPixelk\":393.844462574774,\"fYtoPixelk\":393.844462574774,\"fYtoPixel\":-102.83222621589,\"fUtoAbsPixelk\":5e-5,\"fUtoPixelk\":5e-5,\"fUtoPixel\":696,\"fVtoAbsPixelk\":472.00005,\"fVtoPixelk\":472,\"fVtoPixel\":-472,\"fAbsPixeltoXk\":0.531167156730957,\"fPixeltoXk\":0.531167156730957,\"fPixeltoX\":0.00241096031039128,\"fAbsPixeltoYk\":3.82997069175495,\"fPixeltoYk\":-0.760030102442238,\"fPixeltoY\":-0.0097245779538076,\"fXlowNDC\":0,\"fYlowNDC\":0,\"fXUpNDC\":0,\"fYUpNDC\":0,\"fWNDC\":1,\"fHNDC\":1,\"fAbsXlowNDC\":0,\"fAbsYlowNDC\":0,\"fAbsWNDC\":1,\"fAbsHNDC\":1,\"fUxmin\":0.698970004336019,\"fUymin\":-0.301029995663981,\"fUxmax\":2.04139268515822,\"fUymax\":3.37097058497669,\"fTheta\":30,\"fPhi\":30,\"fAspectRatio\":0,\"fNumber\":0,\"fTickx\":0,\"fTicky\":0,\"fLogx\":1,\"fLogy\":1,\"fLogz\":0,\"fPadPaint\":0,\"fCrosshair\":0,\"fCrosshairPos\":0,\"fBorderSize\":2,\"fBorderMode\":0,\"fModified\":false,\"fGridx\":true,\"fGridy\":true,\"fAbsCoord\":false,\"fEditable\":true,\"fFixedAspectRatio\":false,\"fPrimitives\":{\"_typename\":\"TList\",\"name\":\"TList\",\"arr\":[{\"_typename\":\"TFrame\",\"fUniqueID\":0,\"fBits\":50331656,\"fLineColor\":1,\"fLineStyle\":1,\"fLineWidth\":1,\"fFillColor\":0,\"fFillStyle\":1001,\"fX1\":0.698970004336019,\"fY1\":-0.301029995663981,\"fX2\":2.04139268515822,\"fY2\":3.37097058497669,\"fBorderSize\":1,\"fBorderMode\":0},{\"_typename\":\"TH1D\",\"fUniqueID\":0,\"fBits\":33554440,\"fName\":\"invMass\",\"fTitle\":\"CMS Opendata\",\"fLineColor\":602,\"fLineStyle\":1,\"fLineWidth\":1,\"fFillColor\":0,\"fFillStyle\":1001,\"fMarkerColor\":1,\"fMarkerStyle\":1,\"fMarkerSize\":1,\"fNcells\":514,\"fXaxis\":{\"_typename\":\"TAxis\",\"fUniqueID\":0,\"fBits\":33554432,\"fName\":\"xaxis\",\"fTitle\":\"#mu#mu mass [GeV]\",\"fNdivisions\":510,\"fAxisColor\":1,\"fLabelColor\":1,\"fLabelFont\":42,\"fLabelOffset\":0.005,\"fLabelSize\":0.035,\"fTickLength\":0.03,\"fTitleOffset\":1,\"fTitleSize\":0.035,\"fTitleColor\":1,\"fTitleFont\":42,\"fNbins\":512,\"fXmin\":5,\"fXmax\":110,\"fXbins\":[],\"fFirst\":0,\"fLast\":0,\"fBits2\":0,\"fTimeDisplay\":false,\"fTimeFormat\":\"\",\"fLabels\":null,\"fModLabs\":null},\"fYaxis\":{\"_typename\":\"TAxis\",\"fUniqueID\":0,\"fBits\":33554432,\"fName\":\"yaxis\",\"fTitle\":\"Events\",\"fNdivisions\":510,\"fAxisColor\":1,\"fLabelColor\":1,\"fLabelFont\":42,\"fLabelOffset\":0.005,\"fLabelSize\":0.035,\"fTickLength\":0.03,\"fTitleOffset\":0,\"fTitleSize\":0.035,\"fTitleColor\":1,\"fTitleFont\":42,\"fNbins\":1,\"fXmin\":0,\"fXmax\":1,\"fXbins\":[],\"fFirst\":0,\"fLast\":0,\"fBits2\":0,\"fTimeDisplay\":false,\"fTimeFormat\":\"\",\"fLabels\":null,\"fModLabs\":null},\"fZaxis\":{\"_typename\":\"TAxis\",\"fUniqueID\":0,\"fBits\":33554432,\"fName\":\"zaxis\",\"fTitle\":\"\",\"fNdivisions\":510,\"fAxisColor\":1,\"fLabelColor\":1,\"fLabelFont\":42,\"fLabelOffset\":0.005,\"fLabelSize\":0.035,\"fTickLength\":0.03,\"fTitleOffset\":1,\"fTitleSize\":0.035,\"fTitleColor\":1,\"fTitleFont\":42,\"fNbins\":1,\"fXmin\":0,\"fXmax\":1,\"fXbins\":[],\"fFirst\":0,\"fLast\":0,\"fBits2\":0,\"fTimeDisplay\":false,\"fTimeFormat\":\"\",\"fLabels\":null,\"fModLabs\":null},\"fBarOffset\":0,\"fBarWidth\":1000,\"fEntries\":42431,\"fTsumw\":27485,\"fTsumw2\":27485,\"fTsumwx\":406121.534446703,\"fTsumwx2\":10362087.0910973,\"fMaximum\":-1111,\"fMinimum\":-1111,\"fNormFactor\":0,\"fContour\":[],\"fSumw2\":[],\"fOption\":\"\",\"fFunctions\":{\"_typename\":\"TList\",\"name\":\"TList\",\"arr\":[{\"_typename\":\"TPaveStats\",\"fUniqueID\":0,\"fBits\":50331657,\"fLineColor\":1,\"fLineStyle\":1,\"fLineWidth\":1,\"fFillColor\":0,\"fFillStyle\":1001,\"fX1\":1.84002931704111,\"fY1\":2.79722054041912,\"fX2\":2.17563499724849,\"fY2\":3.53162065107555,\"fX1NDC\":0.780000016093254,\"fY1NDC\":0.775000005960464,\"fX2NDC\":0.980000019073486,\"fY2NDC\":0.935000002384186,\"fBorderSize\":1,\"fInit\":1,\"fShadowColor\":1,\"fCornerRadius\":0,\"fOption\":\"brNDC\",\"fName\":\"stats\",\"fTextAngle\":0,\"fTextSize\":0,\"fTextAlign\":12,\"fTextColor\":1,\"fTextFont\":42,\"fLabel\":\"\",\"fLongest\":18,\"fMargin\":0.05,\"fLines\":{\"_typename\":\"TList\",\"name\":\"TList\",\"arr\":[{\"_typename\":\"TLatex\",\"fUniqueID\":0,\"fBits\":50331648,\"fName\":\"\",\"fTitle\":\"invMass\",\"fTextAngle\":0,\"fTextSize\":0.0368,\"fTextAlign\":0,\"fTextColor\":0,\"fTextFont\":0,\"fX\":0,\"fY\":0,\"fLineColor\":1,\"fLineStyle\":1,\"fLineWidth\":2,\"fLimitFactorSize\":3,\"fOriginSize\":0.0368000008165836},{\"_typename\":\"TLatex\",\"fUniqueID\":0,\"fBits\":50331648,\"fName\":\"\",\"fTitle\":\"Entries = 42431  \",\"fTextAngle\":0,\"fTextSize\":0,\"fTextAlign\":0,\"fTextColor\":0,\"fTextFont\":0,\"fX\":0,\"fY\":0,\"fLineColor\":1,\"fLineStyle\":1,\"fLineWidth\":2,\"fLimitFactorSize\":3,\"fOriginSize\":0.04},{\"_typename\":\"TLatex\",\"fUniqueID\":0,\"fBits\":50331648,\"fName\":\"\",\"fTitle\":\"Mean  =  14.78\",\"fTextAngle\":0,\"fTextSize\":0,\"fTextAlign\":0,\"fTextColor\":0,\"fTextFont\":0,\"fX\":0,\"fY\":0,\"fLineColor\":1,\"fLineStyle\":1,\"fLineWidth\":2,\"fLimitFactorSize\":3,\"fOriginSize\":0.04},{\"_typename\":\"TLatex\",\"fUniqueID\":0,\"fBits\":50331648,\"fName\":\"\",\"fTitle\":\"Std Dev   =   12.6\",\"fTextAngle\":0,\"fTextSize\":0,\"fTextAlign\":0,\"fTextColor\":0,\"fTextFont\":0,\"fX\":0,\"fY\":0,\"fLineColor\":1,\"fLineStyle\":1,\"fLineWidth\":2,\"fLimitFactorSize\":3,\"fOriginSize\":0.04}],\"opt\":[\"\",\"\",\"\",\"\"]},\"fOptFit\":0,\"fOptStat\":1111,\"fFitFormat\":\"5.4g\",\"fStatFormat\":\"6.4g\",\"fParent\":{\"$ref\":3}}],\"opt\":[\"brNDC\"]},\"fBufferSize\":0,\"fBuffer\":[],\"fBinStatErrOpt\":0,\"fArray\":[14946,328,344,402,348,356,355,374,399,412,403,341,379,398,416,437,426,409,415,406,418,523,1240,741,532,609,518,497,376,363,373,379,406,338,332,311,352,328,306,298,295,271,285,264,247,255,277,228,236,223,225,219,219,221,217,210,181,177,185,181,157,168,134,151,155,159,131,150,129,112,135,142,117,88,117,110,125,90,94,95,105,87,102,89,82,82,73,74,75,70,57,62,61,54,60,50,67,56,56,56,48,41,42,44,32,39,36,36,33,40,25,27,33,42,32,28,26,29,31,30,35,19,31,27,19,20,21,16,23,26,15,24,23,9,17,13,9,10,17,20,14,19,11,11,15,14,8,4,11,5,12,6,6,10,8,4,13,12,10,2,10,3,5,6,4,9,7,7,4,9,7,4,6,7,6,5,6,4,6,4,9,8,8,8,6,6,12,5,4,9,6,9,4,7,11,2,3,4,7,2,6,11,4,3,6,5,2,2,9,4,2,4,6,1,3,7,9,3,3,4,1,4,1,3,5,5,4,3,6,0,5,3,0,2,2,2,2,1,1,3,2,2,3,4,3,1,4,3,2,1,3,3,2,1,1,1,3,2,3,3,0,2,2,4,0,1,2,1,2,3,3,2,1,3,2,1,1,2,0,1,3,1,0,1,4,2,1,3,2,3,3,0,1,3,1,2,2,2,2,1,2,2,3,1,2,3,2,3,1,3,1,3,2,3,4,0,2,2,2,4,1,2,2,1,2,1,1,1,1,5,3,2,1,2,0,2,3,1,1,1,2,5,1,2,1,3,3,5,2,2,1,1,2,1,0,1,1,4,6,1,0,1,1,1,2,2,1,1,2,4,2,1,1,1,3,2,2,2,3,2,4,3,1,0,0,0,1,3,4,4,4,0,1,3,4,2,0,0,1,1,3,1,0,4,5,3,4,5,6,5,3,11,9,10,6,10,8,9,9,4,9,11,9,4,11,8,11,9,13,6,4,6,6,5,4,6,0,5,2,3,0,2,2,1,2,2,1,2,1,0,0,2,3,2,0,1,3,2,1,1,0,0,1,1,0,2,0,0,1,0,2,0,1,0,1,2,0,2,0,2,0,1,0,0,1,0,0,1,3,2,2,4,0,0,0,1,0,0,1,0,0,0,0,1,2,0,2,0,1,1,1,0,2,0]},{\"_typename\":\"TPaveText\",\"fUniqueID\":0,\"fBits\":50331657,\"fLineColor\":1,\"fLineStyle\":1,\"fLineWidth\":1,\"fFillColor\":0,\"fFillStyle\":0,\"fX1\":1.14726395444834,\"fY1\":3.52695286460114,\"fX2\":1.5930987350459,\"fY2\":3.80702070967079,\"fX1NDC\":0.367155172413793,\"fY1NDC\":0.933983055615829,\"fX2NDC\":0.632844827586207,\"fY2NDC\":0.995000004768372,\"fBorderSize\":0,\"fInit\":1,\"fShadowColor\":1,\"fCornerRadius\":0,\"fOption\":\"blNDC\",\"fName\":\"title\",\"fTextAngle\":0,\"fTextSize\":0,\"fTextAlign\":22,\"fTextColor\":1,\"fTextFont\":42,\"fLabel\":\"\",\"fLongest\":12,\"fMargin\":0.05,\"fLines\":{\"_typename\":\"TList\",\"name\":\"TList\",\"arr\":[{\"_typename\":\"TLatex\",\"fUniqueID\":0,\"fBits\":50331648,\"fName\":\"\",\"fTitle\":\"CMS Opendata\",\"fTextAngle\":0,\"fTextSize\":0,\"fTextAlign\":0,\"fTextColor\":0,\"fTextFont\":0,\"fX\":0,\"fY\":0,\"fLineColor\":1,\"fLineStyle\":1,\"fLineWidth\":2,\"fLimitFactorSize\":3,\"fOriginSize\":0.0518644079566002}],\"opt\":[\"\"]}}],\"opt\":[\"\",\"\",\"blNDC\"]},\"fExecs\":null,\"fName\":\"c1_n3\",\"fTitle\":\"c1_n3\",\"fNumPaletteColor\":0,\"fNextPaletteColor\":0,\"fDISPLAY\":\"$DISPLAY\",\"fDoubleBuffer\":0,\"fRetained\":true,\"fXsizeUser\":0,\"fYsizeUser\":0,\"fXsizeReal\":20,\"fYsizeReal\":14.28571,\"fWindowTopX\":0,\"fWindowTopY\":0,\"fWindowWidth\":0,\"fWindowHeight\":0,\"fCw\":696,\"fCh\":472,\"fCatt\":{\"_typename\":\"TAttCanvas\",\"fXBetween\":2,\"fYBetween\":2,\"fTitleFromTop\":1.2,\"fXdate\":0.2,\"fYdate\":0.3,\"fAdate\":1},\"kMoveOpaque\":true,\"kResizeOpaque\":true,\"fHighLightColor\":2,\"fBatch\":true,\"kShowEventStatus\":false,\"kAutoExec\":true,\"kMenuBar\":true});\n",
       "       Core.draw(\"root_plot_1\", obj, \"\");\n",
       "     }\n",
       " );\n",
       "</script>\n"
      ],
      "text/plain": [
       "<IPython.core.display.HTML object>"
      ]
     },
     "metadata": {},
     "output_type": "display_data"
    }
   ],
   "source": [
    "%jsroot on\n",
    "invMass = ROOT.TCanvas()\n",
    "invMass_h.Draw()\n",
    "invMass.SetLogy()\n",
    "invMass.SetLogx()\n",
    "invMass.SetGrid()\n",
    "invMass.Draw()"
   ]
  },
  {
   "cell_type": "markdown",
   "metadata": {
    "collapsed": true
   },
   "source": [
    "What resonances do you recognise?"
   ]
  }
 ],
 "metadata": {
  "kernelspec": {
   "display_name": "Python 2",
   "language": "python",
   "name": "python2"
  },
  "language_info": {
   "codemirror_mode": {
    "name": "ipython",
    "version": 2
   },
   "file_extension": ".py",
   "mimetype": "text/x-python",
   "name": "python",
   "nbconvert_exporter": "python",
   "pygments_lexer": "ipython2",
   "version": "2.7.13"
  }
 },
 "nbformat": 4,
 "nbformat_minor": 2
}

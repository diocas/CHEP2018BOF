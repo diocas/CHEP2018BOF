{
 "cells": [
  {
   "cell_type": "markdown",
   "metadata": {},
   "source": [
    "# CHEP BOF: The Present and Future of Data Analysis in ROOT\n",
    "<hr style=\"border-top-width: 4px; border-top-color: #34609b;\">\n",
    "Welcome to the examples of the of the [\"CHEP2018 BOF: The Present and Future of Data Analysis in ROOT\"](https://indico.cern.ch/event/743070/)\n",
    "\n",
    "## Objectives\n",
    "This repository contains examples of [RDataFrame](https://root.cern/doc/master/classROOT_1_1RDataFrame.html) both in C++ and Python: have fun!\n",
    "\n",
    "**Warning**: remember to configure your SWAN session with the \"Bleeding Edge\" or \"93\" software stack\n",
    "\n",
    "## Running a Notebook Cell\n",
    "In order to run a notebook cell, the combination of keys to press is *shift+enter*, in case you are not familiar with this interface!\n",
    "\n",
    "## The examples\n",
    "- <a href="../DimuonAnalysis.ipynb">Dimuon analysis in C++]</a>\n",
    "- <a href="DimuonAnalysis_Py.ipynb">Dimuon analysis in Python]</a>\n",
    "\n"
   ]
  }
 ],
 "metadata": {
  "kernelspec": {
   "display_name": "Python 2",
   "language": "python",
   "name": "python2"
  }
 },
 "nbformat": 4,
 "nbformat_minor": 2
}
